{
 "cells": [
  {
   "cell_type": "code",
   "execution_count": 1,
   "metadata": {},
   "outputs": [],
   "source": [
    "import pandas as pd\n",
    "import numpy as np\n",
    "import matplotlib.pyplot as plt"
   ]
  },
  {
   "cell_type": "code",
   "execution_count": null,
   "metadata": {},
   "outputs": [],
   "source": [
    "# 데이터 오브젝트 생성하기 (Object Creation)\n",
    "# 데이터 확인하기 (Viewing Data)\n",
    "# 데이터 선택하기 (Selection)\n",
    "# 결측치 (Missing Data)\n",
    "# 연산 (Operations)\n",
    "# 합치기 (Merge)\n",
    "# 묶기 (Grouping)\n",
    "# 변형하기 (Reshaping)\n",
    "# 시계열 데이터 다루기 (Time Series)\n",
    "# 카테고리 (Categoricals)\n",
    "# 그래프로 그리기 (Plotting)\n",
    "# 데이터 입/출력 (Getting Data In/Out)"
   ]
  },
  {
   "cell_type": "code",
   "execution_count": 2,
   "metadata": {},
   "outputs": [],
   "source": [
    "# Pandas의 데이터 구조, Series\n",
    "##값들의 리스트를 넘겨주어 만듬\n",
    "## 인덱스는 자동적으로 기본적으로 지정되는 정수 인덱스를 사용\n",
    "s = pd.Series([1, 3, 5, np.nan, 6, 8])\n",
    "# 0    1.0\n",
    "# 1    3.0\n",
    "# 2    5.0\n",
    "# 3    NaN\n",
    "# 4    6.0\n",
    "# 5    8.0\n",
    "# dtype: float64"
   ]
  },
  {
   "cell_type": "code",
   "execution_count": 4,
   "metadata": {},
   "outputs": [],
   "source": [
    "# 또 다른 데이터 구조인 DataFrame\n",
    "## numpy array를 받아 생성\n",
    "## 여기에서는 인덱스로 날짜 값을 주었고, 컬럼의 이름도 같이 넣음\n",
    "\n",
    "dates = pd.date_range('20130101', periods=6)\n",
    "# DatetimeIndex(['2013-01-01', '2013-01-02', '2013-01-03', '2013-01-04',\n",
    "#                '2013-01-05', '2013-01-06'],\n",
    "#               dtype='datetime64[ns]', freq='D')\n",
    "\n",
    "df = pd.DataFrame(np.random.randn(6,4), index=dates, columns=list('ABCD'))\n",
    "#                   A         B         C         D\n",
    "# 2013-01-01  0.469112 -0.282863 -1.509059 -1.135632\n",
    "# 2013-01-02  1.212112 -0.173215  0.119209 -1.044236\n",
    "# 2013-01-03 -0.861849 -2.104569 -0.494929  1.071804\n",
    "# 2013-01-04  0.721555 -0.706771 -1.039575  0.271860\n",
    "# 2013-01-05 -0.424972  0.567020  0.276232 -1.087401\n",
    "# 2013-01-06 -0.673690  0.113648 -1.478427  0.524988"
   ]
  }
 ],
 "metadata": {
  "kernelspec": {
   "display_name": "Python 3",
   "language": "python",
   "name": "python3"
  },
  "language_info": {
   "codemirror_mode": {
    "name": "ipython",
    "version": 3
   },
   "file_extension": ".py",
   "mimetype": "text/x-python",
   "name": "python",
   "nbconvert_exporter": "python",
   "pygments_lexer": "ipython3",
   "version": "3.7.4"
  }
 },
 "nbformat": 4,
 "nbformat_minor": 2
}
